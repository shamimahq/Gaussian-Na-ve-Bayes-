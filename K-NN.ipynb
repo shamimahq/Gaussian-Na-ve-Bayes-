{
 "cells": [
  {
   "cell_type": "markdown",
   "id": "8f4d9268",
   "metadata": {},
   "source": [
    "# Exam1\n",
    "Use the K-NN machine learning algorithm to Classify Single Cell RNA-seq in Glioblastoma patients using the Data_Glioblastoma5Patients_SC.csv database"
   ]
  },
  {
   "cell_type": "markdown",
   "id": "3cbaa0cc",
   "metadata": {},
   "source": [
    "# ExploratoryDataAnalysis"
   ]
  },
  {
   "cell_type": "code",
   "execution_count": 19,
   "id": "aa4c07ce",
   "metadata": {},
   "outputs": [],
   "source": [
    "import numpy as np\n",
    "import pandas as pd\n",
    "import matplotlib.pylab as plt\n",
    "import seaborn as sns"
   ]
  },
  {
   "cell_type": "code",
   "execution_count": 20,
   "id": "74235b1b",
   "metadata": {},
   "outputs": [
    {
     "data": {
      "text/html": [
       "<div>\n",
       "<style scoped>\n",
       "    .dataframe tbody tr th:only-of-type {\n",
       "        vertical-align: middle;\n",
       "    }\n",
       "\n",
       "    .dataframe tbody tr th {\n",
       "        vertical-align: top;\n",
       "    }\n",
       "\n",
       "    .dataframe thead th {\n",
       "        text-align: right;\n",
       "    }\n",
       "</style>\n",
       "<table border=\"1\" class=\"dataframe\">\n",
       "  <thead>\n",
       "    <tr style=\"text-align: right;\">\n",
       "      <th></th>\n",
       "      <th>A2M</th>\n",
       "      <th>AAAS</th>\n",
       "      <th>AAK1</th>\n",
       "      <th>AAMP</th>\n",
       "      <th>AARS</th>\n",
       "      <th>AARSD1</th>\n",
       "      <th>AASDH</th>\n",
       "      <th>AASDHPPT</th>\n",
       "      <th>AASS</th>\n",
       "      <th>AATF</th>\n",
       "      <th>...</th>\n",
       "      <th>ZSWIM6</th>\n",
       "      <th>ZSWIM7</th>\n",
       "      <th>ZUFSP</th>\n",
       "      <th>ZW10</th>\n",
       "      <th>ZWILCH</th>\n",
       "      <th>ZXDC</th>\n",
       "      <th>ZYG11B</th>\n",
       "      <th>ZYX</th>\n",
       "      <th>ZZZ3</th>\n",
       "      <th>Classes</th>\n",
       "    </tr>\n",
       "  </thead>\n",
       "  <tbody>\n",
       "    <tr>\n",
       "      <th>0</th>\n",
       "      <td>-3.80147</td>\n",
       "      <td>-3.889900</td>\n",
       "      <td>-3.985616</td>\n",
       "      <td>2.651558</td>\n",
       "      <td>2.170748</td>\n",
       "      <td>-2.550822</td>\n",
       "      <td>4.807330</td>\n",
       "      <td>3.961170</td>\n",
       "      <td>-0.192665</td>\n",
       "      <td>3.614482</td>\n",
       "      <td>...</td>\n",
       "      <td>2.909466</td>\n",
       "      <td>-3.118284</td>\n",
       "      <td>-1.538324</td>\n",
       "      <td>-1.550699</td>\n",
       "      <td>-1.558581</td>\n",
       "      <td>-1.920271</td>\n",
       "      <td>3.007439</td>\n",
       "      <td>-2.509017</td>\n",
       "      <td>-2.149696</td>\n",
       "      <td>Class1</td>\n",
       "    </tr>\n",
       "    <tr>\n",
       "      <th>1</th>\n",
       "      <td>-3.80147</td>\n",
       "      <td>-3.889900</td>\n",
       "      <td>-3.158708</td>\n",
       "      <td>2.358992</td>\n",
       "      <td>-6.041792</td>\n",
       "      <td>-0.056092</td>\n",
       "      <td>3.606735</td>\n",
       "      <td>-2.632250</td>\n",
       "      <td>2.249388</td>\n",
       "      <td>6.857517</td>\n",
       "      <td>...</td>\n",
       "      <td>-1.821098</td>\n",
       "      <td>-3.118284</td>\n",
       "      <td>-1.538324</td>\n",
       "      <td>-1.550699</td>\n",
       "      <td>-1.558581</td>\n",
       "      <td>-3.068620</td>\n",
       "      <td>2.539560</td>\n",
       "      <td>2.164481</td>\n",
       "      <td>-2.149696</td>\n",
       "      <td>Class1</td>\n",
       "    </tr>\n",
       "    <tr>\n",
       "      <th>2</th>\n",
       "      <td>-3.80147</td>\n",
       "      <td>-3.889900</td>\n",
       "      <td>1.733125</td>\n",
       "      <td>-5.820241</td>\n",
       "      <td>-6.041792</td>\n",
       "      <td>-0.576957</td>\n",
       "      <td>-2.473517</td>\n",
       "      <td>-4.354127</td>\n",
       "      <td>0.063178</td>\n",
       "      <td>-2.570976</td>\n",
       "      <td>...</td>\n",
       "      <td>-1.821098</td>\n",
       "      <td>5.521892</td>\n",
       "      <td>-1.538324</td>\n",
       "      <td>-1.550699</td>\n",
       "      <td>-1.558581</td>\n",
       "      <td>0.174665</td>\n",
       "      <td>-0.165409</td>\n",
       "      <td>0.734268</td>\n",
       "      <td>-2.149696</td>\n",
       "      <td>Class1</td>\n",
       "    </tr>\n",
       "    <tr>\n",
       "      <th>3</th>\n",
       "      <td>-3.80147</td>\n",
       "      <td>-3.889900</td>\n",
       "      <td>-1.665669</td>\n",
       "      <td>3.514271</td>\n",
       "      <td>-6.041792</td>\n",
       "      <td>-3.699171</td>\n",
       "      <td>4.509461</td>\n",
       "      <td>-4.354127</td>\n",
       "      <td>2.985972</td>\n",
       "      <td>-2.570976</td>\n",
       "      <td>...</td>\n",
       "      <td>4.952176</td>\n",
       "      <td>-0.854351</td>\n",
       "      <td>-1.538324</td>\n",
       "      <td>-1.550699</td>\n",
       "      <td>-1.558581</td>\n",
       "      <td>-3.068620</td>\n",
       "      <td>-1.884744</td>\n",
       "      <td>-2.509017</td>\n",
       "      <td>-2.149696</td>\n",
       "      <td>Class1</td>\n",
       "    </tr>\n",
       "    <tr>\n",
       "      <th>4</th>\n",
       "      <td>-3.80147</td>\n",
       "      <td>3.742495</td>\n",
       "      <td>-2.166992</td>\n",
       "      <td>-5.820241</td>\n",
       "      <td>2.094729</td>\n",
       "      <td>4.021873</td>\n",
       "      <td>5.535007</td>\n",
       "      <td>4.019633</td>\n",
       "      <td>2.560370</td>\n",
       "      <td>-2.570976</td>\n",
       "      <td>...</td>\n",
       "      <td>-1.821098</td>\n",
       "      <td>4.328808</td>\n",
       "      <td>-1.538324</td>\n",
       "      <td>7.021985</td>\n",
       "      <td>-1.558581</td>\n",
       "      <td>4.590946</td>\n",
       "      <td>-0.128456</td>\n",
       "      <td>-2.509017</td>\n",
       "      <td>-2.149696</td>\n",
       "      <td>Class1</td>\n",
       "    </tr>\n",
       "  </tbody>\n",
       "</table>\n",
       "<p>5 rows × 5949 columns</p>\n",
       "</div>"
      ],
      "text/plain": [
       "       A2M      AAAS      AAK1      AAMP      AARS    AARSD1     AASDH  \\\n",
       "0 -3.80147 -3.889900 -3.985616  2.651558  2.170748 -2.550822  4.807330   \n",
       "1 -3.80147 -3.889900 -3.158708  2.358992 -6.041792 -0.056092  3.606735   \n",
       "2 -3.80147 -3.889900  1.733125 -5.820241 -6.041792 -0.576957 -2.473517   \n",
       "3 -3.80147 -3.889900 -1.665669  3.514271 -6.041792 -3.699171  4.509461   \n",
       "4 -3.80147  3.742495 -2.166992 -5.820241  2.094729  4.021873  5.535007   \n",
       "\n",
       "   AASDHPPT      AASS      AATF  ...    ZSWIM6    ZSWIM7     ZUFSP      ZW10  \\\n",
       "0  3.961170 -0.192665  3.614482  ...  2.909466 -3.118284 -1.538324 -1.550699   \n",
       "1 -2.632250  2.249388  6.857517  ... -1.821098 -3.118284 -1.538324 -1.550699   \n",
       "2 -4.354127  0.063178 -2.570976  ... -1.821098  5.521892 -1.538324 -1.550699   \n",
       "3 -4.354127  2.985972 -2.570976  ...  4.952176 -0.854351 -1.538324 -1.550699   \n",
       "4  4.019633  2.560370 -2.570976  ... -1.821098  4.328808 -1.538324  7.021985   \n",
       "\n",
       "     ZWILCH      ZXDC    ZYG11B       ZYX      ZZZ3  Classes  \n",
       "0 -1.558581 -1.920271  3.007439 -2.509017 -2.149696   Class1  \n",
       "1 -1.558581 -3.068620  2.539560  2.164481 -2.149696   Class1  \n",
       "2 -1.558581  0.174665 -0.165409  0.734268 -2.149696   Class1  \n",
       "3 -1.558581 -3.068620 -1.884744 -2.509017 -2.149696   Class1  \n",
       "4 -1.558581  4.590946 -0.128456 -2.509017 -2.149696   Class1  \n",
       "\n",
       "[5 rows x 5949 columns]"
      ]
     },
     "execution_count": 20,
     "metadata": {},
     "output_type": "execute_result"
    }
   ],
   "source": [
    "#Importing of dataset to dataframe. \n",
    "data = pd.read_csv(\"Data_Glioblastoma5Patients_SC.csv\")\n",
    "#To see first 5 rows of the dataset\n",
    "data.head()"
   ]
  },
  {
   "cell_type": "code",
   "execution_count": 21,
   "id": "209d9c54",
   "metadata": {},
   "outputs": [
    {
     "name": "stdout",
     "output_type": "stream",
     "text": [
      "(430, 5949)\n"
     ]
    }
   ],
   "source": [
    "# shape\n",
    "print(data.shape)"
   ]
  },
  {
   "cell_type": "code",
   "execution_count": 22,
   "id": "1d93b1e3",
   "metadata": {},
   "outputs": [
    {
     "data": {
      "text/plain": [
       "A2M        float64\n",
       "AAAS       float64\n",
       "AAK1       float64\n",
       "AAMP       float64\n",
       "AARS       float64\n",
       "            ...   \n",
       "ZXDC       float64\n",
       "ZYG11B     float64\n",
       "ZYX        float64\n",
       "ZZZ3       float64\n",
       "Classes     object\n",
       "Length: 5949, dtype: object"
      ]
     },
     "execution_count": 22,
     "metadata": {},
     "output_type": "execute_result"
    }
   ],
   "source": [
    "#To know the data types of the variables.\n",
    "data.dtypes"
   ]
  },
  {
   "cell_type": "code",
   "execution_count": 23,
   "id": "43168b97",
   "metadata": {
    "scrolled": true
   },
   "outputs": [
    {
     "name": "stdout",
     "output_type": "stream",
     "text": [
      "                A2M          AAAS          AAK1          AAMP          AARS  \\\n",
      "count  4.300000e+02  4.300000e+02  4.300000e+02  4.300000e+02  4.300000e+02   \n",
      "mean  -5.116023e-11  9.069777e-11  1.627909e-11 -7.674580e-11 -8.139630e-11   \n",
      "std    4.907659e+00  3.641663e+00  2.474651e+00  3.563029e+00  3.909578e+00   \n",
      "min   -3.801470e+00 -3.889900e+00 -3.985616e+00 -5.820241e+00 -6.041792e+00   \n",
      "25%   -3.801470e+00 -3.889900e+00 -1.871573e+00 -3.807913e+00 -4.560471e+00   \n",
      "50%   -3.801470e+00  4.099148e-01 -3.150282e-01  1.746972e+00  1.776033e+00   \n",
      "75%    4.943281e+00  3.711243e+00  2.002047e+00  2.686033e+00  3.116038e+00   \n",
      "max    1.170195e+01  5.840230e+00  5.389576e+00  4.520579e+00  6.366184e+00   \n",
      "\n",
      "             AARSD1         AASDH      AASDHPPT          AASS          AATF  \\\n",
      "count  4.300000e+02  4.300000e+02  4.300000e+02  4.300000e+02  4.300000e+02   \n",
      "mean  -1.302323e-10 -2.255812e-10 -2.325458e-12  5.814004e-11 -1.511620e-10   \n",
      "std    3.317166e+00  2.883981e+00  3.759008e+00  3.236368e+00  3.461157e+00   \n",
      "min   -3.699171e+00 -2.473517e+00 -4.354127e+00 -6.493931e+00 -2.570976e+00   \n",
      "25%   -3.699171e+00 -2.473517e+00 -4.354127e+00 -1.967954e+00 -2.570976e+00   \n",
      "50%    1.097698e-01 -2.473517e+00  1.255356e+00  1.192040e+00 -2.570976e+00   \n",
      "75%    3.238343e+00  2.622538e+00  3.553135e+00  2.261182e+00  3.911515e+00   \n",
      "max    6.012985e+00  6.798128e+00  5.729251e+00  4.324112e+00  6.992394e+00   \n",
      "\n",
      "       ...       ZSCAN30        ZSWIM6        ZSWIM7         ZUFSP  \\\n",
      "count  ...  4.300000e+02  4.300000e+02  4.300000e+02  4.300000e+02   \n",
      "mean   ...  2.209304e-10 -1.906982e-10 -3.953487e-11 -4.418642e-11   \n",
      "std    ...  3.227682e+00  2.730348e+00  2.946168e+00  2.702606e+00   \n",
      "min    ... -2.593571e+00 -1.821098e+00 -3.118284e+00 -1.538324e+00   \n",
      "25%    ... -2.593571e+00 -1.821098e+00 -3.118284e+00 -1.538324e+00   \n",
      "50%    ... -2.593571e+00 -1.821098e+00 -8.136609e-01 -1.538324e+00   \n",
      "75%    ...  3.196094e+00  2.038805e+00  2.848862e+00  8.320662e-01   \n",
      "max    ...  7.499714e+00  7.931653e+00  6.105923e+00  8.186486e+00   \n",
      "\n",
      "               ZW10        ZWILCH          ZXDC        ZYG11B           ZYX  \\\n",
      "count  4.300000e+02  4.300000e+02  4.300000e+02  4.300000e+02  4.300000e+02   \n",
      "mean  -1.651165e-10  1.906968e-10 -1.348836e-10  3.255803e-11 -2.023251e-10   \n",
      "std    2.836726e+00  2.788284e+00  2.859633e+00  2.811249e+00  3.001418e+00   \n",
      "min   -1.550699e+00 -1.558581e+00 -3.068620e+00 -3.421540e+00 -2.509017e+00   \n",
      "25%   -1.550699e+00 -1.558581e+00 -3.068620e+00 -2.423300e+00 -2.509017e+00   \n",
      "50%   -1.550699e+00 -1.558581e+00 -8.339072e-01 -4.421617e-01 -2.509017e+00   \n",
      "75%   -1.687454e-01  3.335339e-01  2.459752e+00  2.514619e+00  2.939355e+00   \n",
      "max    8.073628e+00  7.998381e+00  5.950488e+00  6.703674e+00  6.918941e+00   \n",
      "\n",
      "               ZZZ3  \n",
      "count  4.300000e+02  \n",
      "mean  -1.604656e-10  \n",
      "std    3.052755e+00  \n",
      "min   -2.149696e+00  \n",
      "25%   -2.149696e+00  \n",
      "50%   -2.149696e+00  \n",
      "75%    2.228821e+00  \n",
      "max    8.064823e+00  \n",
      "\n",
      "[8 rows x 5948 columns]\n"
     ]
    }
   ],
   "source": [
    "# Statistical Summary\n",
    "\n",
    "# descriptions\n",
    "print(data.describe())"
   ]
  },
  {
   "cell_type": "code",
   "execution_count": 32,
   "id": "82b2decd",
   "metadata": {},
   "outputs": [
    {
     "data": {
      "text/plain": [
       "Class1    118\n",
       "Class2     94\n",
       "Class3     75\n",
       "Class4     73\n",
       "Class5     70\n",
       "Name: Classes, dtype: int64"
      ]
     },
     "execution_count": 32,
     "metadata": {},
     "output_type": "execute_result"
    }
   ],
   "source": [
    "#Counts of classes in data\n",
    "data['Classes'].value_counts()"
   ]
  },
  {
   "cell_type": "code",
   "execution_count": 37,
   "id": "29b419bd",
   "metadata": {},
   "outputs": [],
   "source": [
    "# replacing values\n",
    "\n",
    "data['Classes'].replace([1,2,3,4,5],['Class1', 'Class2', 'Class3', 'Class4', 'Class5'], inplace=True)"
   ]
  },
  {
   "cell_type": "code",
   "execution_count": 38,
   "id": "3c07fd50",
   "metadata": {},
   "outputs": [
    {
     "name": "stdout",
     "output_type": "stream",
     "text": [
      "Rows, Columns: (430, 5949)\n"
     ]
    },
    {
     "data": {
      "image/png": "[encoded data removed]",
      "text/plain": [
       "<Figure size 1296x648 with 1 Axes>"
      ]
     },
     "metadata": {},
     "output_type": "display_data"
    }
   ],
   "source": [
    "print(\"Rows, Columns:\",data.shape)\n",
    "Clases = data.groupby('Classes').size()\n",
    "labels = Clases.index.values\n",
    "sizes = Clases.values\n",
    "muestra = []\n",
    "for k in range(0,labels.size):\n",
    "  texto = labels[k]+': '+str(sizes[k])+' samples\\n({:,.2f} %)'.format((100*sizes[k]/sum(sizes)))\n",
    "  muestra.append(texto)\n",
    "colors = ['#E6B0AA','#D7BDE2','#A9CCE3','#A3E4D7','#F9E79F','#D5DBDB','#AEB6BF','#EDBB99','#5DADE2','#F4D03F','#27AE60']\n",
    "bbox_props = dict(boxstyle=\"square,pad=0.3\", fc=\"w\", ec=\"k\", lw=0.72)\n",
    "kw = dict(arrowprops=dict(arrowstyle=\"-\"),bbox=bbox_props, zorder=0, va=\"center\")\n",
    "fig,ax1 = plt.subplots(figsize=(18,9),ncols=1,nrows=1)\n",
    "wedges, texts = ax1.pie(sizes, shadow=True, colors=colors, startangle=90)\n",
    "ax1.axis('equal')  # Equal aspect ratio ensures that pie is drawn as a circle.\n",
    "\n",
    "for i, p in enumerate(wedges):\n",
    "    ang = (p.theta2 - p.theta1)/2. + p.theta1\n",
    "    y = np.sin(np.deg2rad(ang))\n",
    "    x = np.cos(np.deg2rad(ang))\n",
    "    horizontalalignment = {-1: \"right\", 1: \"left\"}[int(np.sign(x))]\n",
    "    connectionstyle = \"angle,angleA=0,angleB={}\".format(ang)\n",
    "    kw[\"arrowprops\"].update({\"connectionstyle\": connectionstyle})\n",
    "    ax1.annotate(muestra[i], xy=(x, y), xytext=(1.35*np.sign(x), 1.4*y),\n",
    "                horizontalalignment=horizontalalignment, **kw)\n",
    "plt.show()"
   ]
  },
  {
   "cell_type": "markdown",
   "id": "9977751c",
   "metadata": {},
   "source": [
    "Here we can see that class1 has 118 samples which is 27.44%,class2 has 94 samples which is 21.86%, class3 has 75 samples which is 17.44%,class4 has 73 samples which is 16.98%,class5 has 70 samples which is 16.28%,   "
   ]
  },
  {
   "cell_type": "code",
   "execution_count": 24,
   "id": "4ff6982d",
   "metadata": {},
   "outputs": [
    {
     "data": {
      "text/plain": [
       "Class1    118\n",
       "Class2     94\n",
       "Class3     75\n",
       "Class4     73\n",
       "Class5     70\n",
       "Name: Classes, dtype: int64"
      ]
     },
     "execution_count": 24,
     "metadata": {},
     "output_type": "execute_result"
    }
   ],
   "source": [
    "#Flow Pattern is the output class\n",
    "#To know the count of each class:\n",
    "data['Classes'].value_counts()"
   ]
  },
  {
   "cell_type": "code",
   "execution_count": 39,
   "id": "609fc8d3",
   "metadata": {},
   "outputs": [
    {
     "name": "stdout",
     "output_type": "stream",
     "text": [
      "There are 0 columns with more than 50% missing values\n"
     ]
    }
   ],
   "source": [
    "#Missing values (in percent)\n",
    "missing = (X.isnull().sum() / len(X)).sort_values(ascending = False)\n",
    "missing = missing.index[missing > 0.5]\n",
    "all_missing = list(set(missing))\n",
    "print('There are %d columns with more than 50%% missing values' % len(all_missing))"
   ]
  },
  {
   "cell_type": "markdown",
   "id": "ad5ed083",
   "metadata": {},
   "source": [
    "When performing this null value review process, none of the remaining characteristics has null or missing values that would allow us to eliminate them.\n",
    "Removing zero-variance features\n",
    "After performing the review of null values in the dataset, a cleaning of those characteristics that delivered zero in all samples, indicating zero variance, was performed, which in this case yielded 0 characteristics with this statistical behavior, so that data is not reduced, keep 5948 features."
   ]
  },
  {
   "cell_type": "code",
   "execution_count": 40,
   "id": "4f788962",
   "metadata": {},
   "outputs": [
    {
     "name": "stdout",
     "output_type": "stream",
     "text": [
      "(430, 5948)\n",
      "(430,)\n"
     ]
    }
   ],
   "source": [
    "#Separating independant variable and dependent variable(\"Flow Pattern\")\n",
    "X = data.drop(['Classes'], axis=1)\n",
    "y = data['Classes']\n",
    "# print(X.head())\n",
    "print(X.shape)\n",
    "# print(y.head())\n",
    "print(y.shape)"
   ]
  },
  {
   "cell_type": "code",
   "execution_count": 26,
   "id": "f6aed6c7",
   "metadata": {},
   "outputs": [],
   "source": [
    "#Scaling X data\n",
    "from sklearn.preprocessing import StandardScaler\n",
    "scaler = StandardScaler()\n",
    "X_train_scaled = scaler.fit(X_train).transform(X_train)\n",
    "X_test_scaled = scaler.fit(X_test).transform(X_test)\n",
    "\n"
   ]
  },
  {
   "cell_type": "markdown",
   "id": "7d919631",
   "metadata": {},
   "source": [
    "# KNN Classification"
   ]
  },
  {
   "cell_type": "code",
   "execution_count": 9,
   "id": "b7f224a8",
   "metadata": {},
   "outputs": [
    {
     "data": {
      "text/plain": [
       "array(['Class1', 'Class3', 'Class3', 'Class3', 'Class3', 'Class3',\n",
       "       'Class2', 'Class3', 'Class1', 'Class3', 'Class2', 'Class3',\n",
       "       'Class1', 'Class1', 'Class3', 'Class3', 'Class1', 'Class1',\n",
       "       'Class2', 'Class3', 'Class3', 'Class4', 'Class4', 'Class3',\n",
       "       'Class3', 'Class3', 'Class3', 'Class1', 'Class4', 'Class3',\n",
       "       'Class3', 'Class1', 'Class3', 'Class5', 'Class3', 'Class1',\n",
       "       'Class2', 'Class1', 'Class2', 'Class3', 'Class2', 'Class4',\n",
       "       'Class5', 'Class3', 'Class2', 'Class3', 'Class4', 'Class4',\n",
       "       'Class3', 'Class1', 'Class3', 'Class1', 'Class3', 'Class3',\n",
       "       'Class2', 'Class2', 'Class2', 'Class4', 'Class3', 'Class3',\n",
       "       'Class3', 'Class3', 'Class5', 'Class1', 'Class3', 'Class3',\n",
       "       'Class5', 'Class2', 'Class1', 'Class1', 'Class1', 'Class5',\n",
       "       'Class3', 'Class1', 'Class5', 'Class1', 'Class1', 'Class4',\n",
       "       'Class5', 'Class3', 'Class3', 'Class5', 'Class3', 'Class3',\n",
       "       'Class3', 'Class3', 'Class1', 'Class2', 'Class3', 'Class3',\n",
       "       'Class4', 'Class3', 'Class2', 'Class5', 'Class1', 'Class1',\n",
       "       'Class3', 'Class2', 'Class3', 'Class1', 'Class3', 'Class1',\n",
       "       'Class1', 'Class3', 'Class3', 'Class3', 'Class3', 'Class1',\n",
       "       'Class1', 'Class3', 'Class1', 'Class1', 'Class2', 'Class1',\n",
       "       'Class1', 'Class2', 'Class3', 'Class3', 'Class3', 'Class3',\n",
       "       'Class3', 'Class3', 'Class3', 'Class4', 'Class1', 'Class3',\n",
       "       'Class1', 'Class3', 'Class3'], dtype=object)"
      ]
     },
     "execution_count": 9,
     "metadata": {},
     "output_type": "execute_result"
    }
   ],
   "source": [
    "#Apply KNN classifier.\n",
    "from sklearn.neighbors import KNeighborsClassifier\n",
    "from sklearn.svm import SVC\n",
    "from sklearn.metrics import confusion_matrix\n",
    "\n",
    "knn = KNeighborsClassifier()\n",
    "knn.fit(X_train_scaled, y_train)\n",
    " \n",
    "# Testing the model using X_test and storing the output in y_pred\n",
    "y_pred_knn = knn.predict(X_test_scaled)\n",
    "y_pred_knn"
   ]
  },
  {
   "cell_type": "code",
   "execution_count": 27,
   "id": "98ebef94",
   "metadata": {},
   "outputs": [
    {
     "name": "stdout",
     "output_type": "stream",
     "text": [
      "              precision    recall  f1-score   support\n",
      "\n",
      "      Class1       1.00      0.82      0.90        40\n",
      "      Class2       0.94      0.54      0.68        28\n",
      "      Class3       0.34      1.00      0.51        21\n",
      "      Class4       0.90      0.45      0.60        20\n",
      "      Class5       0.89      0.40      0.55        20\n",
      "\n",
      "    accuracy                           0.67       129\n",
      "   macro avg       0.81      0.64      0.65       129\n",
      "weighted avg       0.85      0.67      0.69       129\n",
      "\n",
      "0.6666666666666666\n",
      "accuracy score: 0.667\n"
     ]
    },
    {
     "data": {
      "text/plain": [
       "array([[33,  1,  5,  0,  1],\n",
       "       [ 0, 15, 13,  0,  0],\n",
       "       [ 0,  0, 21,  0,  0],\n",
       "       [ 0,  0, 11,  9,  0],\n",
       "       [ 0,  0, 11,  1,  8]])"
      ]
     },
     "execution_count": 27,
     "metadata": {},
     "output_type": "execute_result"
    }
   ],
   "source": [
    "# Quantitative evaluation of the model quality on the test set. We will explain these metrics in detail at part c.\n",
    "\n",
    "from sklearn.metrics import classification_report\n",
    "print(classification_report(y_test, y_pred_knn))\n",
    "\n",
    "from sklearn.metrics import accuracy_score\n",
    "print(accuracy_score(y_test, y_pred_knn))\n",
    "score_knn = accuracy_score(y_test, y_pred_knn)\n",
    "print(\"accuracy score: %0.3f\" % score_knn)\n",
    "\n",
    "#Creating a confusion matrix ,which compares the y_test and y_pred_knn\n",
    "cm_knn = confusion_matrix(y_test, y_pred_knn)\n",
    "cm_knn"
   ]
  },
  {
   "cell_type": "markdown",
   "id": "10c7558f",
   "metadata": {},
   "source": [
    "Here we can see the accuracy is .67 in class1 vealues fitted well precision is 1, in class2 there is 1 unfitted value precision is .94, in class3 has the most unfitted values precision is .34 ,class4 has 1 unfited value precision is .90 and class5 has 1 unfitted value precision is .89 "
   ]
  },
  {
   "cell_type": "code",
   "execution_count": 11,
   "id": "cd20400b",
   "metadata": {},
   "outputs": [
    {
     "name": "stdout",
     "output_type": "stream",
     "text": [
      "KNN: 0.651075 (0.062286)\n"
     ]
    },
    {
     "data": {
      "image/png": "[encoded data removed]",
      "text/plain": [
       "<Figure size 432x288 with 1 Axes>"
      ]
     },
     "metadata": {
      "needs_background": "light"
     },
     "output_type": "display_data"
    }
   ],
   "source": [
    "# We evaluate and compare accuracy levels 2 different algorithms (KNN vs. GaussianNB)\n",
    "# Algorithms (KNN vs. GaussianNB)\n",
    "from sklearn import model_selection\n",
    "\n",
    "models = []\n",
    "models.append(('KNN', KNeighborsClassifier()))\n",
    "\n",
    "# evaluate each model in turn\n",
    "results = []\n",
    "names = []\n",
    "for name, model in models:\n",
    "    kfold = model_selection.KFold(n_splits = 10, random_state = 10, shuffle=True)\n",
    "    cv_results = model_selection.cross_val_score(model, X_train_scaled, y_train, cv = kfold, scoring= 'accuracy')\n",
    "    results.append(cv_results)\n",
    "    names.append(name)\n",
    "    msg = \"%s: %f (%f)\" % (name, cv_results.mean(), cv_results.std())\n",
    "    print(msg)\n",
    "    \n",
    "# There is a population of accuracy measures for each algorithm (10 fold cross validation).\n",
    "\n",
    "# Compare Algorithms Accuracy\n",
    "fig = plt.figure()\n",
    "fig.suptitle('Algorithm Comparison')\n",
    "ax = fig.add_subplot(111)\n",
    "plt.boxplot(results)\n",
    "ax.set_xticklabels(names)\n",
    "plt.show()"
   ]
  },
  {
   "cell_type": "markdown",
   "id": "f80bbaf9",
   "metadata": {},
   "source": [
    "We can see that k-nearest neighbors (KNN) algorithm has the larger accuracy score (compared to Naive Bayes algorithm)."
   ]
  },
  {
   "cell_type": "markdown",
   "id": "5424cda7",
   "metadata": {},
   "source": [
    "# KNN Classification (applying parameters optimization)"
   ]
  },
  {
   "cell_type": "code",
   "execution_count": 28,
   "id": "6e9459b9",
   "metadata": {},
   "outputs": [
    {
     "name": "stdout",
     "output_type": "stream",
     "text": [
      "Fitting 10 folds for each of 19 candidates, totalling 190 fits\n",
      "{'n_neighbors': 2}\n"
     ]
    },
    {
     "data": {
      "text/plain": [
       "array(['Class1', 'Class3', 'Class3', 'Class3', 'Class3', 'Class1',\n",
       "       'Class2', 'Class3', 'Class1', 'Class3', 'Class2', 'Class3',\n",
       "       'Class1', 'Class1', 'Class3', 'Class2', 'Class1', 'Class1',\n",
       "       'Class2', 'Class3', 'Class3', 'Class3', 'Class4', 'Class3',\n",
       "       'Class3', 'Class3', 'Class3', 'Class1', 'Class4', 'Class3',\n",
       "       'Class4', 'Class3', 'Class3', 'Class5', 'Class3', 'Class1',\n",
       "       'Class2', 'Class1', 'Class2', 'Class3', 'Class2', 'Class3',\n",
       "       'Class5', 'Class3', 'Class2', 'Class3', 'Class4', 'Class4',\n",
       "       'Class1', 'Class1', 'Class2', 'Class1', 'Class3', 'Class3',\n",
       "       'Class2', 'Class2', 'Class2', 'Class4', 'Class3', 'Class2',\n",
       "       'Class3', 'Class3', 'Class5', 'Class1', 'Class3', 'Class3',\n",
       "       'Class5', 'Class2', 'Class1', 'Class1', 'Class1', 'Class5',\n",
       "       'Class3', 'Class1', 'Class1', 'Class1', 'Class1', 'Class4',\n",
       "       'Class4', 'Class2', 'Class3', 'Class5', 'Class3', 'Class3',\n",
       "       'Class3', 'Class3', 'Class1', 'Class2', 'Class3', 'Class3',\n",
       "       'Class4', 'Class2', 'Class2', 'Class5', 'Class1', 'Class1',\n",
       "       'Class2', 'Class2', 'Class3', 'Class1', 'Class3', 'Class1',\n",
       "       'Class1', 'Class3', 'Class3', 'Class3', 'Class3', 'Class1',\n",
       "       'Class1', 'Class3', 'Class1', 'Class3', 'Class2', 'Class1',\n",
       "       'Class1', 'Class2', 'Class3', 'Class3', 'Class3', 'Class3',\n",
       "       'Class3', 'Class2', 'Class2', 'Class2', 'Class1', 'Class2',\n",
       "       'Class1', 'Class3', 'Class3'], dtype=object)"
      ]
     },
     "execution_count": 28,
     "metadata": {},
     "output_type": "execute_result"
    }
   ],
   "source": [
    "# KNN Classification, apply Grid Search Parameters\n",
    "from sklearn.neighbors import KNeighborsClassifier\n",
    "from sklearn.svm import SVC\n",
    "\n",
    "knn = KNeighborsClassifier()\n",
    "\n",
    "from sklearn.model_selection import GridSearchCV\n",
    "parameters_k = {\"n_neighbors\": range(1, 20)}\n",
    "gridsearch_knn = GridSearchCV(KNeighborsClassifier(), param_grid = parameters_k, verbose=1, cv = 10, n_jobs=-1)\n",
    "gridsearch_knn.fit(X_train_scaled, y_train)\n",
    "\n",
    "print(gridsearch_knn.best_params_)\n",
    " \n",
    "# Testing the model using X_test and storing the output in y_pred\n",
    "y_pred_pknn = gridsearch_knn.predict(X_test_scaled)\n",
    "y_pred_pknn"
   ]
  },
  {
   "cell_type": "code",
   "execution_count": 29,
   "id": "b704c1fc",
   "metadata": {},
   "outputs": [
    {
     "name": "stdout",
     "output_type": "stream",
     "text": [
      "0.7131782945736435\n",
      "accuracy score: 0.713\n",
      "              precision    recall  f1-score   support\n",
      "\n",
      "      Class1       0.97      0.82      0.89        40\n",
      "      Class2       0.88      0.82      0.85        28\n",
      "      Class3       0.40      1.00      0.57        21\n",
      "      Class4       0.89      0.40      0.55        20\n",
      "      Class5       1.00      0.35      0.52        20\n",
      "\n",
      "    accuracy                           0.71       129\n",
      "   macro avg       0.83      0.68      0.68       129\n",
      "weighted avg       0.85      0.71      0.72       129\n",
      "\n"
     ]
    },
    {
     "data": {
      "text/plain": [
       "array([[33,  1,  5,  1,  0],\n",
       "       [ 0, 23,  5,  0,  0],\n",
       "       [ 0,  0, 21,  0,  0],\n",
       "       [ 0,  0, 12,  8,  0],\n",
       "       [ 1,  2, 10,  0,  7]])"
      ]
     },
     "execution_count": 29,
     "metadata": {},
     "output_type": "execute_result"
    }
   ],
   "source": [
    "# Quantitative evaluation of the model quality on the test set. \n",
    "from sklearn.metrics import accuracy_score\n",
    "print(accuracy_score(y_test, y_pred_pknn))\n",
    "score_pknn = accuracy_score(y_test, y_pred_pknn)\n",
    "print(\"accuracy score: %0.3f\" % score_pknn)\n",
    "\n",
    "from sklearn.metrics import classification_report\n",
    "print(classification_report(y_test, y_pred_pknn))\n",
    "\n",
    "# Creating  a confusion matrix,which compares the y_test and y_pred_pknn\n",
    "from sklearn.metrics import confusion_matrix\n",
    "cm_pknn = confusion_matrix(y_test, y_pred_pknn)\n",
    "cm_pknn"
   ]
  },
  {
   "cell_type": "markdown",
   "id": "183bbcc8",
   "metadata": {},
   "source": [
    "Here we can see the accuracy is increased .71, in class1 there is 1 precision is .97, in class2 there is 3 unfitted value precision is .88, in class3 unfitted values decressed precision is incresed .40, class4 has 1 unfited value precision is .89 and class5 has 0 unfitted value precision increased 1 "
   ]
  },
  {
   "cell_type": "code",
   "execution_count": 30,
   "id": "9dfcc0f1",
   "metadata": {},
   "outputs": [
    {
     "data": {
      "text/plain": [
       "<matplotlib.legend.Legend at 0x7fbda054e460>"
      ]
     },
     "execution_count": 30,
     "metadata": {},
     "output_type": "execute_result"
    },
    {
     "data": {
      "image/png": "[encoded data removed]",
      "text/plain": [
       "<Figure size 432x288 with 1 Axes>"
      ]
     },
     "metadata": {
      "needs_background": "light"
     },
     "output_type": "display_data"
    }
   ],
   "source": [
    "#Once again, we test the result from Grid Search Parameters by applying loop\n",
    "training_accuracy = []\n",
    "test_accuracy = []\n",
    "\n",
    "#try KNN for diffrent k nearest neighbor from 1 to 50\n",
    "neighbors_setting = range(1,20)\n",
    "\n",
    "for k in neighbors_setting:\n",
    "    knn_test = KNeighborsClassifier(n_neighbors= k)\n",
    "    knn_test.fit(X_train_scaled,y_train)\n",
    "    training_accuracy.append(knn_test.score(X_train_scaled, y_train))\n",
    "    test_accuracy.append(knn_test.score(X_test_scaled, y_test))\n",
    " \n",
    "plt.plot(neighbors_setting,training_accuracy, label='Accuracy of the training set')\n",
    "plt.plot(neighbors_setting,test_accuracy, label='Accuracy of the test set')\n",
    "plt.ylabel('Accuracy')\n",
    "plt.xlabel('Number of Neighbors')\n",
    "plt.legend()\n",
    "\n"
   ]
  },
  {
   "cell_type": "markdown",
   "id": "2aad92c9",
   "metadata": {},
   "source": [
    "by looking at plot, best result accurs when n_neighbors is 2. It is the same n_neighbors we got from Grid Search Parameters."
   ]
  },
  {
   "cell_type": "code",
   "execution_count": 31,
   "id": "1125ee33",
   "metadata": {},
   "outputs": [
    {
     "name": "stdout",
     "output_type": "stream",
     "text": [
      "KNN: 0.664409 (0.096066)\n",
      "Fitting 10 folds for each of 19 candidates, totalling 190 fits\n",
      "Fitting 10 folds for each of 19 candidates, totalling 190 fits\n",
      "Fitting 10 folds for each of 19 candidates, totalling 190 fits\n",
      "Fitting 10 folds for each of 19 candidates, totalling 190 fits\n",
      "Fitting 10 folds for each of 19 candidates, totalling 190 fits\n",
      "Fitting 10 folds for each of 19 candidates, totalling 190 fits\n",
      "Fitting 10 folds for each of 19 candidates, totalling 190 fits\n",
      "Fitting 10 folds for each of 19 candidates, totalling 190 fits\n",
      "Fitting 10 folds for each of 19 candidates, totalling 190 fits\n",
      "Fitting 10 folds for each of 19 candidates, totalling 190 fits\n",
      "KNN_parameter: 0.680968 (0.109962)\n"
     ]
    },
    {
     "data": {
      "image/png": "[encoded data removed]",
      "text/plain": [
       "<Figure size 432x288 with 1 Axes>"
      ]
     },
     "metadata": {
      "needs_background": "light"
     },
     "output_type": "display_data"
    }
   ],
   "source": [
    "from sklearn import model_selection\n",
    "\n",
    "models = []\n",
    "models.append(('KNN',KNeighborsClassifier(3)))\n",
    "models.append(('KNN_parameter', gridsearch_knn))\n",
    "\n",
    "# evaluate each model in turn\n",
    "results = []\n",
    "names = []\n",
    "for name, model in models:\n",
    "    kfold = model_selection.KFold(n_splits = 10, random_state = 10, shuffle=True)\n",
    "    cv_results = model_selection.cross_val_score(model, X_train_scaled, y_train, cv = kfold, scoring= 'accuracy')\n",
    "    results.append(cv_results)\n",
    "    names.append(name)\n",
    "    msg = \"%s: %f (%f)\" % (name, cv_results.mean(), cv_results.std())\n",
    "    print(msg)\n",
    "    \n",
    "# There is a population of accuracy measures for each algorithm (10 fold cross validation).\n",
    "\n",
    "# Compare Algorithms Accuracy\n",
    "fig = plt.figure()\n",
    "fig.suptitle('Algorithm Comparison')\n",
    "ax = fig.add_subplot(111)\n",
    "plt.boxplot(results)\n",
    "ax.set_xticklabels(names)\n",
    "plt.show()"
   ]
  }
 ],
 "metadata": {
  "kernelspec": {
   "display_name": "Python 3 (ipykernel)",
   "language": "python",
   "name": "python3"
  },
  "language_info": {
   "codemirror_mode": {
    "name": "ipython",
    "version": 3
   },
   "file_extension": ".py",
   "mimetype": "text/x-python",
   "name": "python",
   "nbconvert_exporter": "python",
   "pygments_lexer": "ipython3",
   "version": "3.9.7"
  }
 },
 "nbformat": 4,
 "nbformat_minor": 5
}
